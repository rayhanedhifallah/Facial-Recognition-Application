{
 "cells": [
  {
   "cell_type": "code",
   "execution_count": 1,
   "id": "1161a430",
   "metadata": {},
   "outputs": [],
   "source": [
    "# Import standard dependencies\n",
    "import cv2\n",
    "import os\n",
    "import random\n",
    "import numpy as np\n",
    "from matplotlib import pyplot as plt"
   ]
  },
  {
   "cell_type": "code",
   "execution_count": 2,
   "id": "fe0c6f62",
   "metadata": {},
   "outputs": [],
   "source": [
    "# Import tensorflow dependencies - Functional API\n",
    "from tensorflow.keras.models import Model\n",
    "from tensorflow.keras.layers import Layer, Conv2D, Dense, MaxPooling2D, Input, Flatten\n",
    "import tensorflow as tf"
   ]
  },
  {
   "cell_type": "code",
   "execution_count": 3,
   "id": "97d5b077",
   "metadata": {},
   "outputs": [],
   "source": [
    "# Avoid OOM errors by setting GPU Memory Consumption Growth\n",
    "gpus = tf.config.experimental.list_physical_devices('GPU')\n",
    "for gpu in gpus: \n",
    "    tf.config.experimental.set_memory_growth(gpu, True)"
   ]
  },
  {
   "cell_type": "code",
   "execution_count": 4,
   "id": "511b2bed",
   "metadata": {},
   "outputs": [],
   "source": [
    "# Setup paths\n",
    "POS_PATH = os.path.join('data', 'positive')\n",
    "NEG_PATH = os.path.join('data', 'negative')\n",
    "ANC_PATH = os.path.join('data', 'anchor')"
   ]
  },
  {
   "cell_type": "code",
   "execution_count": 5,
   "id": "164f6288",
   "metadata": {},
   "outputs": [],
   "source": [
    "# Make the directories\n",
    "os.makedirs(POS_PATH)\n",
    "os.makedirs(NEG_PATH)\n",
    "os.makedirs(ANC_PATH)"
   ]
  },
  {
   "cell_type": "code",
   "execution_count": 6,
   "id": "5910ec31",
   "metadata": {},
   "outputs": [],
   "source": [
    "for directory in os.listdir('lfw'):\n",
    "    for file in os.listdir(os.path.join('lfw', directory)):\n",
    "        EX_PATH = os.path.join('lfw', directory, file)\n",
    "        NEW_PATH = os.path.join(NEG_PATH, file)\n",
    "        os.replace(EX_PATH, NEW_PATH)"
   ]
  },
  {
   "cell_type": "code",
   "execution_count": 7,
   "id": "e1483be0",
   "metadata": {},
   "outputs": [],
   "source": [
    "import uuid"
   ]
  },
  {
   "cell_type": "code",
   "execution_count": 8,
   "id": "f54df2e1",
   "metadata": {},
   "outputs": [
    {
     "data": {
      "text/plain": [
       "'data\\\\anchor\\\\3d068e34-3cb3-11ed-a53d-e133b804f6ef.jpg'"
      ]
     },
     "execution_count": 8,
     "metadata": {},
     "output_type": "execute_result"
    }
   ],
   "source": [
    "os.path.join(ANC_PATH, '{}.jpg'.format(uuid.uuid1()))"
   ]
  },
  {
   "cell_type": "code",
   "execution_count": 9,
   "id": "c858ea0d",
   "metadata": {},
   "outputs": [],
   "source": [
    "# Establish a connection to the webcam\n",
    "cap = cv2.VideoCapture(0)\n",
    "if not cap.isOpened():\n",
    "    raise IOError(\"Cannot open webcam\")\n",
    "\n",
    "while True:\n",
    "\n",
    "    ret, frame = cap.read()\n",
    "   \n",
    "    # Cut down frame to 250x250px\n",
    "    frame = frame[120:120+250,200:200+250, :]\n",
    "    \n",
    "    # Collect anchors \n",
    "    if cv2.waitKey(1) & 0XFF == ord('a'):\n",
    "        # Create the unique file path \n",
    "        imgname = os.path.join(ANC_PATH, '{}.jpg'.format(uuid.uuid1()))\n",
    "        # Write out anchor image\n",
    "        cv2.imwrite(imgname, frame)\n",
    "    \n",
    "    # Collect positives\n",
    "    if cv2.waitKey(1) & 0XFF == ord('p'):\n",
    "        # Create the unique file path \n",
    "        imgname = os.path.join(POS_PATH, '{}.jpg'.format(uuid.uuid1()))\n",
    "        # Write out positive image\n",
    "        cv2.imwrite(imgname, frame)\n",
    "    \n",
    "    # Show image back to screen\n",
    "    cv2.imshow('Image Collection', frame)\n",
    "    \n",
    "    # Breaking gracefully\n",
    "    if cv2.waitKey(1) & 0XFF == ord('q'):\n",
    "        break\n",
    "        \n",
    "# Release the webcam\n",
    "cap.release()\n",
    "# Close the image show frame\n",
    "cv2.destroyAllWindows()"
   ]
  },
  {
   "cell_type": "code",
   "execution_count": 11,
   "id": "686a9753",
   "metadata": {},
   "outputs": [],
   "source": [
    "anchor = tf.data.Dataset.list_files(ANC_PATH+'\\*.jpg').take(300)\n",
    "positive = tf.data.Dataset.list_files(POS_PATH+'\\*.jpg').take(300)\n",
    "negative = tf.data.Dataset.list_files(NEG_PATH+'\\*.jpg').take(300)"
   ]
  },
  {
   "cell_type": "code",
   "execution_count": 12,
   "id": "ceeed32d",
   "metadata": {},
   "outputs": [],
   "source": [
    "dir_test = anchor.as_numpy_iterator()"
   ]
  },
  {
   "cell_type": "code",
   "execution_count": 13,
   "id": "786bb4f9",
   "metadata": {},
   "outputs": [
    {
     "name": "stdout",
     "output_type": "stream",
     "text": [
      "b'data\\\\anchor\\\\5c392c02-3cb3-11ed-959c-e133b804f6ef.jpg'\n"
     ]
    }
   ],
   "source": [
    "print(dir_test.next())"
   ]
  },
  {
   "cell_type": "code",
   "execution_count": 14,
   "id": "68156a93",
   "metadata": {},
   "outputs": [],
   "source": [
    "def preprocess(file_path):\n",
    "    \n",
    "    # Read in image from file path\n",
    "    byte_img = tf.io.read_file(file_path)\n",
    "    # Load in the image \n",
    "    img = tf.io.decode_jpeg(byte_img)\n",
    "    \n",
    "    # Preprocessing steps - resizing the image to be 100x100x3\n",
    "    img = tf.image.resize(img, (100,100))\n",
    "    # Scale image to be between 0 and 1 \n",
    "    img = img / 255.0\n",
    "\n",
    "    # Return image\n",
    "    return img"
   ]
  },
  {
   "cell_type": "code",
   "execution_count": 15,
   "id": "643ff061",
   "metadata": {},
   "outputs": [],
   "source": [
    "img = preprocess('data\\\\anchor\\\\5c392c02-3cb3-11ed-959c-e133b804f6ef.jpg')"
   ]
  },
  {
   "cell_type": "code",
   "execution_count": 16,
   "id": "c6830fb6",
   "metadata": {},
   "outputs": [
    {
     "data": {
      "text/plain": [
       "0.9992647"
      ]
     },
     "execution_count": 16,
     "metadata": {},
     "output_type": "execute_result"
    }
   ],
   "source": [
    "img.numpy().max()"
   ]
  },
  {
   "cell_type": "code",
   "execution_count": 18,
   "id": "5729ed7d",
   "metadata": {},
   "outputs": [
    {
     "data": {
      "text/plain": [
       "<matplotlib.image.AxesImage at 0x1ea001d5e88>"
      ]
     },
     "execution_count": 18,
     "metadata": {},
     "output_type": "execute_result"
    },
    {
     "data": {
      "image/png": "[encoded data removed]",
      "text/plain": [
       "<Figure size 640x480 with 1 Axes>"
      ]
     },
     "metadata": {},
     "output_type": "display_data"
    }
   ],
   "source": [
    "plt.imshow(img)"
   ]
  },
  {
   "cell_type": "code",
   "execution_count": null,
   "id": "e10d21d8",
   "metadata": {},
   "outputs": [],
   "source": [
    "# (anchor, positive) => 1,1,1,1,1\n",
    "# (anchor, negative) => 0,0,0,0,0"
   ]
  },
  {
   "cell_type": "code",
   "execution_count": 19,
   "id": "5b2efff1",
   "metadata": {},
   "outputs": [],
   "source": [
    "positives = tf.data.Dataset.zip((anchor, positive, tf.data.Dataset.from_tensor_slices(tf.ones(len(anchor)))))\n",
    "negatives = tf.data.Dataset.zip((anchor, negative, tf.data.Dataset.from_tensor_slices(tf.zeros(len(anchor)))))\n",
    "data = positives.concatenate(negatives)"
   ]
  },
  {
   "cell_type": "code",
   "execution_count": 20,
   "id": "384e5b34",
   "metadata": {},
   "outputs": [
    {
     "data": {
      "text/plain": [
       "<ConcatenateDataset shapes: ((), (), ()), types: (tf.string, tf.string, tf.float32)>"
      ]
     },
     "execution_count": 20,
     "metadata": {},
     "output_type": "execute_result"
    }
   ],
   "source": [
    "data"
   ]
  },
  {
   "cell_type": "code",
   "execution_count": 21,
   "id": "090a2bb7",
   "metadata": {},
   "outputs": [],
   "source": [
    "samples = data.as_numpy_iterator()"
   ]
  },
  {
   "cell_type": "code",
   "execution_count": 22,
   "id": "46f29897",
   "metadata": {},
   "outputs": [],
   "source": [
    "exampple = samples.next()"
   ]
  },
  {
   "cell_type": "code",
   "execution_count": 23,
   "id": "f3f9497c",
   "metadata": {},
   "outputs": [
    {
     "data": {
      "text/plain": [
       "(b'data\\\\anchor\\\\597ab80a-3cb3-11ed-be76-e133b804f6ef.jpg',\n",
       " b'data\\\\positive\\\\6d0f5cfa-3cb3-11ed-ac8d-e133b804f6ef.jpg',\n",
       " 1.0)"
      ]
     },
     "execution_count": 23,
     "metadata": {},
     "output_type": "execute_result"
    }
   ],
   "source": [
    "exampple"
   ]
  },
  {
   "cell_type": "code",
   "execution_count": 24,
   "id": "e0d878b0",
   "metadata": {},
   "outputs": [],
   "source": [
    "def preprocess_twin(input_img, validation_img, label):\n",
    "    return(preprocess(input_img), preprocess(validation_img), label)"
   ]
  },
  {
   "cell_type": "code",
   "execution_count": 25,
   "id": "a911ffdd",
   "metadata": {},
   "outputs": [],
   "source": [
    "res = preprocess_twin(*exampple)"
   ]
  },
  {
   "cell_type": "code",
   "execution_count": 26,
   "id": "27aaa767",
   "metadata": {},
   "outputs": [
    {
     "data": {
      "text/plain": [
       "<matplotlib.image.AxesImage at 0x1ea00248a88>"
      ]
     },
     "execution_count": 26,
     "metadata": {},
     "output_type": "execute_result"
    },
    {
     "data": {
      "image/png": "[encoded data removed]",
      "text/plain": [
       "<Figure size 640x480 with 1 Axes>"
      ]
     },
     "metadata": {},
     "output_type": "display_data"
    }
   ],
   "source": [
    "plt.imshow(res[1])"
   ]
  },
  {
   "cell_type": "code",
   "execution_count": 27,
   "id": "63e58fae",
   "metadata": {},
   "outputs": [
    {
     "data": {
      "text/plain": [
       "1.0"
      ]
     },
     "execution_count": 27,
     "metadata": {},
     "output_type": "execute_result"
    }
   ],
   "source": [
    "res[2]"
   ]
  },
  {
   "cell_type": "code",
   "execution_count": 28,
   "id": "9756a8a6",
   "metadata": {},
   "outputs": [],
   "source": [
    "# Build dataloader pipeline\n",
    "data = data.map(preprocess_twin)\n",
    "data = data.cache()\n",
    "data = data.shuffle(buffer_size=1024)"
   ]
  },
  {
   "cell_type": "code",
   "execution_count": 29,
   "id": "091771ac",
   "metadata": {},
   "outputs": [],
   "source": [
    "# Training partition\n",
    "train_data = data.take(round(len(data)*.7))\n",
    "train_data = train_data.batch(16)\n",
    "train_data = train_data.prefetch(8)"
   ]
  },
  {
   "cell_type": "code",
   "execution_count": 30,
   "id": "b9b986e7",
   "metadata": {},
   "outputs": [],
   "source": [
    "# Testing partition\n",
    "test_data = data.skip(round(len(data)*.7))\n",
    "test_data = test_data.take(round(len(data)*.3))\n",
    "test_data = test_data.batch(16)\n",
    "test_data = test_data.prefetch(8)"
   ]
  },
  {
   "cell_type": "code",
   "execution_count": 31,
   "id": "113d3227",
   "metadata": {},
   "outputs": [],
   "source": [
    "inp = Input(shape=(105,105,3), name='input_image')"
   ]
  },
  {
   "cell_type": "code",
   "execution_count": 32,
   "id": "630f3c7f",
   "metadata": {},
   "outputs": [],
   "source": [
    "c1 = Conv2D(64, (10,10), activation='relu')(inp)"
   ]
  },
  {
   "cell_type": "code",
   "execution_count": 33,
   "id": "ec7a65b8",
   "metadata": {},
   "outputs": [],
   "source": [
    "m1 = MaxPooling2D(64, (2,2), padding='same')(c1)"
   ]
  },
  {
   "cell_type": "code",
   "execution_count": 34,
   "id": "49acd558",
   "metadata": {},
   "outputs": [],
   "source": [
    "c2 = Conv2D(128, (7,7), activation='relu')(m1)\n",
    "m2 = MaxPooling2D(64, (2,2), padding='same')(c2)"
   ]
  },
  {
   "cell_type": "code",
   "execution_count": 35,
   "id": "84c03d35",
   "metadata": {},
   "outputs": [],
   "source": [
    "c3 = Conv2D(128, (4,4), activation='relu')(m2)\n",
    "m3 = MaxPooling2D(64, (2,2), padding='same')(c3)"
   ]
  },
  {
   "cell_type": "code",
   "execution_count": 36,
   "id": "79684b8a",
   "metadata": {},
   "outputs": [],
   "source": [
    "c4 = Conv2D(256, (4,4), activation='relu')(m3)\n",
    "f1 = Flatten()(c4)\n",
    "d1 = Dense(4096, activation='sigmoid')(f1)"
   ]
  },
  {
   "cell_type": "code",
   "execution_count": 37,
   "id": "7fc64934",
   "metadata": {},
   "outputs": [],
   "source": [
    "mod = Model(inputs=[inp], outputs=[d1], name='embedding')"
   ]
  },
  {
   "cell_type": "code",
   "execution_count": 38,
   "id": "c574af61",
   "metadata": {},
   "outputs": [
    {
     "name": "stdout",
     "output_type": "stream",
     "text": [
      "Model: \"embedding\"\n",
      "_________________________________________________________________\n",
      "Layer (type)                 Output Shape              Param #   \n",
      "=================================================================\n",
      "input_image (InputLayer)     [(None, 105, 105, 3)]     0         \n",
      "_________________________________________________________________\n",
      "conv2d (Conv2D)              (None, 96, 96, 64)        19264     \n",
      "_________________________________________________________________\n",
      "max_pooling2d (MaxPooling2D) (None, 48, 48, 64)        0         \n",
      "_________________________________________________________________\n",
      "conv2d_1 (Conv2D)            (None, 42, 42, 128)       401536    \n",
      "_________________________________________________________________\n",
      "max_pooling2d_1 (MaxPooling2 (None, 21, 21, 128)       0         \n",
      "_________________________________________________________________\n",
      "conv2d_2 (Conv2D)            (None, 18, 18, 128)       262272    \n",
      "_________________________________________________________________\n",
      "max_pooling2d_2 (MaxPooling2 (None, 9, 9, 128)         0         \n",
      "_________________________________________________________________\n",
      "conv2d_3 (Conv2D)            (None, 6, 6, 256)         524544    \n",
      "_________________________________________________________________\n",
      "flatten (Flatten)            (None, 9216)              0         \n",
      "_________________________________________________________________\n",
      "dense (Dense)                (None, 4096)              37752832  \n",
      "=================================================================\n",
      "Total params: 38,960,448\n",
      "Trainable params: 38,960,448\n",
      "Non-trainable params: 0\n",
      "_________________________________________________________________\n"
     ]
    }
   ],
   "source": [
    "mod.summary()"
   ]
  },
  {
   "cell_type": "code",
   "execution_count": 39,
   "id": "a84ffcff",
   "metadata": {},
   "outputs": [],
   "source": [
    "def make_embedding(): \n",
    "    inp = Input(shape=(100,100,3), name='input_image')\n",
    "    \n",
    "    # First block\n",
    "    c1 = Conv2D(64, (10,10), activation='relu')(inp)\n",
    "    m1 = MaxPooling2D(64, (2,2), padding='same')(c1)\n",
    "    \n",
    "    # Second block\n",
    "    c2 = Conv2D(128, (7,7), activation='relu')(m1)\n",
    "    m2 = MaxPooling2D(64, (2,2), padding='same')(c2)\n",
    "    \n",
    "    # Third block \n",
    "    c3 = Conv2D(128, (4,4), activation='relu')(m2)\n",
    "    m3 = MaxPooling2D(64, (2,2), padding='same')(c3)\n",
    "    \n",
    "    # Final embedding block\n",
    "    c4 = Conv2D(256, (4,4), activation='relu')(m3)\n",
    "    f1 = Flatten()(c4)\n",
    "    d1 = Dense(4096, activation='sigmoid')(f1)\n",
    "    \n",
    "    \n",
    "    return Model(inputs=[inp], outputs=[d1], name='embedding')"
   ]
  },
  {
   "cell_type": "code",
   "execution_count": 40,
   "id": "2e703335",
   "metadata": {},
   "outputs": [],
   "source": [
    "embedding = make_embedding()"
   ]
  },
  {
   "cell_type": "code",
   "execution_count": 41,
   "id": "e8e09c8b",
   "metadata": {},
   "outputs": [
    {
     "name": "stdout",
     "output_type": "stream",
     "text": [
      "Model: \"embedding\"\n",
      "_________________________________________________________________\n",
      "Layer (type)                 Output Shape              Param #   \n",
      "=================================================================\n",
      "input_image (InputLayer)     [(None, 100, 100, 3)]     0         \n",
      "_________________________________________________________________\n",
      "conv2d_4 (Conv2D)            (None, 91, 91, 64)        19264     \n",
      "_________________________________________________________________\n",
      "max_pooling2d_3 (MaxPooling2 (None, 46, 46, 64)        0         \n",
      "_________________________________________________________________\n",
      "conv2d_5 (Conv2D)            (None, 40, 40, 128)       401536    \n",
      "_________________________________________________________________\n",
      "max_pooling2d_4 (MaxPooling2 (None, 20, 20, 128)       0         \n",
      "_________________________________________________________________\n",
      "conv2d_6 (Conv2D)            (None, 17, 17, 128)       262272    \n",
      "_________________________________________________________________\n",
      "max_pooling2d_5 (MaxPooling2 (None, 9, 9, 128)         0         \n",
      "_________________________________________________________________\n",
      "conv2d_7 (Conv2D)            (None, 6, 6, 256)         524544    \n",
      "_________________________________________________________________\n",
      "flatten_1 (Flatten)          (None, 9216)              0         \n",
      "_________________________________________________________________\n",
      "dense_1 (Dense)              (None, 4096)              37752832  \n",
      "=================================================================\n",
      "Total params: 38,960,448\n",
      "Trainable params: 38,960,448\n",
      "Non-trainable params: 0\n",
      "_________________________________________________________________\n"
     ]
    }
   ],
   "source": [
    "embedding.summary()"
   ]
  },
  {
   "cell_type": "code",
   "execution_count": 42,
   "id": "4de730f0",
   "metadata": {},
   "outputs": [],
   "source": [
    "# Siamese L1 Distance class\n",
    "class L1Dist(Layer):\n",
    "    \n",
    "    # Init method - inheritance\n",
    "    def __init__(self, **kwargs):\n",
    "        super().__init__()\n",
    "       \n",
    "    # Magic happens here - similarity calculation\n",
    "    def call(self, input_embedding, validation_embedding):\n",
    "        return tf.math.abs(input_embedding - validation_embedding)"
   ]
  },
  {
   "cell_type": "code",
   "execution_count": 43,
   "id": "7b7a6827",
   "metadata": {},
   "outputs": [],
   "source": [
    "l1 = L1Dist()"
   ]
  },
  {
   "cell_type": "code",
   "execution_count": 44,
   "id": "7f283c57",
   "metadata": {},
   "outputs": [
    {
     "data": {
      "text/plain": [
       "<__main__.L1Dist at 0x1ea004ef588>"
      ]
     },
     "execution_count": 44,
     "metadata": {},
     "output_type": "execute_result"
    }
   ],
   "source": [
    "l1(anchor_embedding, validation_embedding)"
   ]
  },
  {
   "cell_type": "code",
   "execution_count": 46,
   "id": "da4e8323",
   "metadata": {},
   "outputs": [],
   "source": [
    "input_image = Input(name='input_img', shape=(100,100,3))\n",
    "validation_image = Input(name='validation_img', shape=(100,100,3))"
   ]
  },
  {
   "cell_type": "code",
   "execution_count": 47,
   "id": "f5a354ae",
   "metadata": {},
   "outputs": [],
   "source": [
    "inp_embedding = embedding(input_image)\n",
    "val_embedding = embedding(validation_image)"
   ]
  },
  {
   "cell_type": "code",
   "execution_count": 48,
   "id": "be6edd37",
   "metadata": {},
   "outputs": [],
   "source": [
    "siamese_layer = L1Dist()"
   ]
  },
  {
   "cell_type": "code",
   "execution_count": 55,
   "id": "8f17d88d",
   "metadata": {},
   "outputs": [
    {
     "data": {
      "text/plain": [
       "<KerasTensor: shape=(None, 4096) dtype=float32 (created by layer 'l1_dist_1')>"
      ]
     },
     "execution_count": 55,
     "metadata": {},
     "output_type": "execute_result"
    }
   ],
   "source": [
    "siamese_layer(inp_embedding, val_embedding)"
   ]
  },
  {
   "cell_type": "code",
   "execution_count": 49,
   "id": "c56eecfd",
   "metadata": {},
   "outputs": [],
   "source": [
    "distances = siamese_layer(inp_embedding, val_embedding)"
   ]
  },
  {
   "cell_type": "code",
   "execution_count": 50,
   "id": "7a476f2d",
   "metadata": {},
   "outputs": [],
   "source": [
    "classifier = Dense(1, activation='sigmoid')(distances)"
   ]
  },
  {
   "cell_type": "code",
   "execution_count": 51,
   "id": "c732bbf1",
   "metadata": {},
   "outputs": [
    {
     "data": {
      "text/plain": [
       "<KerasTensor: shape=(None, 1) dtype=float32 (created by layer 'dense_2')>"
      ]
     },
     "execution_count": 51,
     "metadata": {},
     "output_type": "execute_result"
    }
   ],
   "source": [
    "classifier"
   ]
  },
  {
   "cell_type": "code",
   "execution_count": 52,
   "id": "75f0f37b",
   "metadata": {},
   "outputs": [],
   "source": [
    "siamese_network = Model(inputs=[input_image, validation_image], outputs=classifier, name='SiameseNetwork')"
   ]
  },
  {
   "cell_type": "code",
   "execution_count": 53,
   "id": "fb99465e",
   "metadata": {},
   "outputs": [
    {
     "name": "stdout",
     "output_type": "stream",
     "text": [
      "Model: \"SiameseNetwork\"\n",
      "__________________________________________________________________________________________________\n",
      "Layer (type)                    Output Shape         Param #     Connected to                     \n",
      "==================================================================================================\n",
      "input_img (InputLayer)          [(None, 100, 100, 3) 0                                            \n",
      "__________________________________________________________________________________________________\n",
      "validation_img (InputLayer)     [(None, 100, 100, 3) 0                                            \n",
      "__________________________________________________________________________________________________\n",
      "embedding (Functional)          (None, 4096)         38960448    input_img[0][0]                  \n",
      "                                                                 validation_img[0][0]             \n",
      "__________________________________________________________________________________________________\n",
      "l1_dist_1 (L1Dist)              (None, 4096)         0           embedding[0][0]                  \n",
      "                                                                 embedding[1][0]                  \n",
      "__________________________________________________________________________________________________\n",
      "dense_2 (Dense)                 (None, 1)            4097        l1_dist_1[0][0]                  \n",
      "==================================================================================================\n",
      "Total params: 38,964,545\n",
      "Trainable params: 38,964,545\n",
      "Non-trainable params: 0\n",
      "__________________________________________________________________________________________________\n"
     ]
    }
   ],
   "source": [
    "siamese_network.summary()"
   ]
  },
  {
   "cell_type": "code",
   "execution_count": 54,
   "id": "75c87858",
   "metadata": {},
   "outputs": [],
   "source": [
    "def make_siamese_model(): \n",
    "    \n",
    "    # Anchor image input in the network\n",
    "    input_image = Input(name='input_img', shape=(100,100,3))\n",
    "    \n",
    "    # Validation image in the network \n",
    "    validation_image = Input(name='validation_img', shape=(100,100,3))\n",
    "    \n",
    "    # Combine siamese distance components\n",
    "    siamese_layer = L1Dist()\n",
    "    siamese_layer._name = 'distance'\n",
    "    distances = siamese_layer(embedding(input_image), embedding(validation_image))\n",
    "    \n",
    "    # Classification layer \n",
    "    classifier = Dense(1, activation='sigmoid')(distances)\n",
    "    \n",
    "    return Model(inputs=[input_image, validation_image], outputs=classifier, name='SiameseNetwork')"
   ]
  },
  {
   "cell_type": "code",
   "execution_count": 56,
   "id": "8fe723cc",
   "metadata": {},
   "outputs": [],
   "source": [
    "siamese_model = make_siamese_model()"
   ]
  },
  {
   "cell_type": "code",
   "execution_count": 57,
   "id": "9e1dfca3",
   "metadata": {},
   "outputs": [
    {
     "name": "stdout",
     "output_type": "stream",
     "text": [
      "Model: \"SiameseNetwork\"\n",
      "__________________________________________________________________________________________________\n",
      "Layer (type)                    Output Shape         Param #     Connected to                     \n",
      "==================================================================================================\n",
      "input_img (InputLayer)          [(None, 100, 100, 3) 0                                            \n",
      "__________________________________________________________________________________________________\n",
      "validation_img (InputLayer)     [(None, 100, 100, 3) 0                                            \n",
      "__________________________________________________________________________________________________\n",
      "embedding (Functional)          (None, 4096)         38960448    input_img[0][0]                  \n",
      "                                                                 validation_img[0][0]             \n",
      "__________________________________________________________________________________________________\n",
      "distance (L1Dist)               (None, 4096)         0           embedding[2][0]                  \n",
      "                                                                 embedding[3][0]                  \n",
      "__________________________________________________________________________________________________\n",
      "dense_3 (Dense)                 (None, 1)            4097        distance[0][0]                   \n",
      "==================================================================================================\n",
      "Total params: 38,964,545\n",
      "Trainable params: 38,964,545\n",
      "Non-trainable params: 0\n",
      "__________________________________________________________________________________________________\n"
     ]
    }
   ],
   "source": [
    "siamese_model.summary()"
   ]
  },
  {
   "cell_type": "markdown",
   "id": "50d72f93",
   "metadata": {},
   "source": [
    "Training"
   ]
  },
  {
   "cell_type": "code",
   "execution_count": 58,
   "id": "8e7f902e",
   "metadata": {},
   "outputs": [],
   "source": [
    "binary_cross_loss = tf.losses.BinaryCrossentropy()"
   ]
  },
  {
   "cell_type": "code",
   "execution_count": 59,
   "id": "d2c65eba",
   "metadata": {},
   "outputs": [],
   "source": [
    "opt = tf.keras.optimizers.Adam(1e-4) # 0.0001"
   ]
  },
  {
   "cell_type": "code",
   "execution_count": 62,
   "id": "e88bb007",
   "metadata": {},
   "outputs": [],
   "source": [
    "checkpoint_dir = './training_checkpoints'\n",
    "checkpoint_prefix = os.path.join(checkpoint_dir, 'ckpt')\n",
    "checkpoint = tf.train.Checkpoint(opt=opt, siamese_model=siamese_model)"
   ]
  },
  {
   "cell_type": "code",
   "execution_count": 63,
   "id": "d9bdecb8",
   "metadata": {},
   "outputs": [],
   "source": [
    "test_batch = train_data.as_numpy_iterator()"
   ]
  },
  {
   "cell_type": "code",
   "execution_count": 64,
   "id": "de941bba",
   "metadata": {},
   "outputs": [],
   "source": [
    "batch_1 = test_batch.next()"
   ]
  },
  {
   "cell_type": "code",
   "execution_count": 65,
   "id": "53a58c9c",
   "metadata": {},
   "outputs": [],
   "source": [
    "X = batch_1[:2]"
   ]
  },
  {
   "cell_type": "code",
   "execution_count": 66,
   "id": "fbc07003",
   "metadata": {},
   "outputs": [],
   "source": [
    "y = batch_1[2]"
   ]
  },
  {
   "cell_type": "code",
   "execution_count": 67,
   "id": "5633a25f",
   "metadata": {},
   "outputs": [
    {
     "data": {
      "text/plain": [
       "array([1., 0., 1., 1., 0., 1., 1., 0., 0., 0., 0., 1., 0., 0., 1., 0.],\n",
       "      dtype=float32)"
      ]
     },
     "execution_count": 67,
     "metadata": {},
     "output_type": "execute_result"
    }
   ],
   "source": [
    "y"
   ]
  },
  {
   "cell_type": "code",
   "execution_count": 68,
   "id": "3c73a58c",
   "metadata": {},
   "outputs": [],
   "source": [
    "tf.losses.BinaryCrossentropy??"
   ]
  },
  {
   "cell_type": "code",
   "execution_count": 69,
   "id": "f442bde0",
   "metadata": {},
   "outputs": [],
   "source": [
    "@tf.function\n",
    "def train_step(batch):\n",
    "    \n",
    "    # Record all of our operations \n",
    "    with tf.GradientTape() as tape:     \n",
    "        # Get anchor and positive/negative image\n",
    "        X = batch[:2]\n",
    "        # Get label\n",
    "        y = batch[2]\n",
    "        \n",
    "        # Forward pass\n",
    "        yhat = siamese_model(X, training=True)\n",
    "        # Calculate loss\n",
    "        loss = binary_cross_loss(y, yhat)\n",
    "    print(loss)\n",
    "        \n",
    "    # Calculate gradients\n",
    "    grad = tape.gradient(loss, siamese_model.trainable_variables)\n",
    "    \n",
    "    # Calculate updated weights and apply to siamese model\n",
    "    opt.apply_gradients(zip(grad, siamese_model.trainable_variables))\n",
    "        \n",
    "    # Return loss\n",
    "    return loss"
   ]
  },
  {
   "cell_type": "code",
   "execution_count": 70,
   "id": "45f9f4b5",
   "metadata": {},
   "outputs": [],
   "source": [
    "# Import metric calculations\n",
    "from tensorflow.keras.metrics import Precision, Recall"
   ]
  },
  {
   "cell_type": "code",
   "execution_count": 71,
   "id": "061a962d",
   "metadata": {},
   "outputs": [],
   "source": [
    "def train(data, EPOCHS):\n",
    "    # Loop through epochs\n",
    "    for epoch in range(1, EPOCHS+1):\n",
    "        print('\\n Epoch {}/{}'.format(epoch, EPOCHS))\n",
    "        progbar = tf.keras.utils.Progbar(len(data))\n",
    "        \n",
    "        # Creating a metric object \n",
    "        r = Recall()\n",
    "        p = Precision()\n",
    "        \n",
    "        # Loop through each batch\n",
    "        for idx, batch in enumerate(data):\n",
    "            # Run train step here\n",
    "            loss = train_step(batch)\n",
    "            yhat = siamese_model.predict(batch[:2])\n",
    "            r.update_state(batch[2], yhat)\n",
    "            p.update_state(batch[2], yhat) \n",
    "            progbar.update(idx+1)\n",
    "        print(loss.numpy(), r.result().numpy(), p.result().numpy())\n",
    "        \n",
    "        # Save checkpoints\n",
    "        if epoch % 10 == 0: \n",
    "            checkpoint.save(file_prefix=checkpoint_prefix)"
   ]
  },
  {
   "cell_type": "code",
   "execution_count": 76,
   "id": "2b7dba1d",
   "metadata": {},
   "outputs": [],
   "source": [
    "EPOCHS = 30"
   ]
  },
  {
   "cell_type": "code",
   "execution_count": 77,
   "id": "50416f00",
   "metadata": {},
   "outputs": [
    {
     "name": "stdout",
     "output_type": "stream",
     "text": [
      "\n",
      " Epoch 1/30\n",
      "16/16 [==============================] - 435s 27s/step\n",
      "0.0009330551 0.7657658 0.9883721\n",
      "\n",
      " Epoch 2/30\n",
      "16/16 [==============================] - 432s 27s/step\n",
      "0.00046163594 0.91818184 0.99019605\n",
      "\n",
      " Epoch 3/30\n",
      "16/16 [==============================] - 420s 26s/step\n",
      "0.3804527 0.95652175 1.0\n",
      "\n",
      " Epoch 4/30\n",
      "16/16 [==============================] - 460s 29s/step\n",
      "0.048279427 0.9649123 1.0\n",
      "\n",
      " Epoch 5/30\n",
      "16/16 [==============================] - 453s 28s/step\n",
      "0.021149741 0.96875 0.96875\n",
      "\n",
      " Epoch 6/30\n",
      "16/16 [==============================] - 428s 27s/step\n",
      "0.031269286 0.9714286 0.99029124\n",
      "\n",
      " Epoch 7/30\n",
      "16/16 [==============================] - 415s 26s/step\n",
      "1.2487307e-05 0.9910714 0.9910714\n",
      "\n",
      " Epoch 8/30\n",
      "16/16 [==============================] - 744s 48s/step\n",
      "0.000118597396 0.9818182 1.0\n",
      "\n",
      " Epoch 9/30\n",
      "16/16 [==============================] - 441s 28s/step\n",
      "0.0 1.0 1.0\n",
      "\n",
      " Epoch 10/30\n",
      "16/16 [==============================] - 466s 29s/step\n",
      "0.28973603 0.981982 1.0\n",
      "\n",
      " Epoch 11/30\n",
      "16/16 [==============================] - 454s 28s/step\n",
      "0.0005948863 1.0 1.0\n",
      "\n",
      " Epoch 12/30\n",
      "16/16 [==============================] - 430s 27s/step\n",
      "9.030694e-05 0.9915254 1.0\n",
      "\n",
      " Epoch 13/30\n",
      "16/16 [==============================] - 477s 29s/step\n",
      "3.0994465e-06 0.9909091 1.0\n",
      "\n",
      " Epoch 14/30\n",
      "16/16 [==============================] - 443s 28s/step\n",
      "0.0 1.0 1.0\n",
      "\n",
      " Epoch 15/30\n",
      "16/16 [==============================] - 420s 26s/step\n",
      "0.000599296 1.0 1.0\n",
      "\n",
      " Epoch 16/30\n",
      "16/16 [==============================] - 416s 26s/step\n",
      "1.192093e-07 1.0 1.0\n",
      "\n",
      " Epoch 17/30\n",
      "16/16 [==============================] - 436s 27s/step\n",
      "1.7494252e-05 1.0 1.0\n",
      "\n",
      " Epoch 18/30\n",
      "16/16 [==============================] - 452s 28s/step\n",
      "0.000121250465 1.0 1.0\n",
      "\n",
      " Epoch 19/30\n",
      "16/16 [==============================] - 411s 26s/step\n",
      "1.4901164e-07 1.0 1.0\n",
      "\n",
      " Epoch 20/30\n",
      "16/16 [==============================] - 895s 58s/step\n",
      "0.0018478965 1.0 1.0\n",
      "\n",
      " Epoch 21/30\n",
      "16/16 [==============================] - 473s 30s/step\n",
      "0.0001829005 1.0 1.0\n",
      "\n",
      " Epoch 22/30\n",
      "16/16 [==============================] - 429s 27s/step\n",
      "0.012385895 1.0 1.0\n",
      "\n",
      " Epoch 23/30\n",
      "16/16 [==============================] - 460s 29s/step\n",
      "0.0 1.0 1.0\n",
      "\n",
      " Epoch 24/30\n",
      "16/16 [==============================] - 477s 30s/step\n",
      "0.0 1.0 1.0\n",
      "\n",
      " Epoch 25/30\n",
      "16/16 [==============================] - 448s 28s/step\n",
      "0.00027306384 1.0 1.0\n",
      "\n",
      " Epoch 26/30\n",
      "16/16 [==============================] - 482s 30s/step\n",
      "0.0009504047 1.0 1.0\n",
      "\n",
      " Epoch 27/30\n",
      "16/16 [==============================] - 513s 32s/step\n",
      "4.768374e-07 1.0 1.0\n",
      "\n",
      " Epoch 28/30\n",
      "16/16 [==============================] - 520s 33s/step\n",
      "0.0006540758 1.0 1.0\n",
      "\n",
      " Epoch 29/30\n",
      "16/16 [==============================] - 417s 26s/step\n",
      "0.0 1.0 1.0\n",
      "\n",
      " Epoch 30/30\n",
      "16/16 [==============================] - 774s 50s/step\n",
      "0.0 1.0 1.0\n"
     ]
    }
   ],
   "source": [
    "train(train_data, EPOCHS)"
   ]
  },
  {
   "cell_type": "code",
   "execution_count": 78,
   "id": "68045960",
   "metadata": {},
   "outputs": [],
   "source": [
    "# Import metric calculations\n",
    "from tensorflow.keras.metrics import Precision, Recall"
   ]
  },
  {
   "cell_type": "code",
   "execution_count": 79,
   "id": "80c15b90",
   "metadata": {},
   "outputs": [],
   "source": [
    "# Get a batch of test data\n",
    "test_input, test_val, y_true = test_data.as_numpy_iterator().next()"
   ]
  },
  {
   "cell_type": "code",
   "execution_count": 80,
   "id": "100c6d59",
   "metadata": {},
   "outputs": [],
   "source": [
    "y_hat = siamese_model.predict([test_input, test_val])"
   ]
  },
  {
   "cell_type": "code",
   "execution_count": 81,
   "id": "11d95c4a",
   "metadata": {},
   "outputs": [
    {
     "data": {
      "text/plain": [
       "[1, 0, 1, 1, 0, 0, 0, 0, 1, 1, 0, 1, 1, 0, 0, 0]"
      ]
     },
     "execution_count": 81,
     "metadata": {},
     "output_type": "execute_result"
    }
   ],
   "source": [
    "# Post processing the results \n",
    "[1 if prediction > 0.5 else 0 for prediction in y_hat ]"
   ]
  },
  {
   "cell_type": "code",
   "execution_count": 82,
   "id": "a922cd12",
   "metadata": {},
   "outputs": [
    {
     "data": {
      "text/plain": [
       "array([1., 0., 1., 1., 0., 0., 0., 0., 1., 1., 0., 1., 1., 0., 0., 0.],\n",
       "      dtype=float32)"
      ]
     },
     "execution_count": 82,
     "metadata": {},
     "output_type": "execute_result"
    }
   ],
   "source": [
    "y_true"
   ]
  },
  {
   "cell_type": "code",
   "execution_count": 83,
   "id": "7001e1fe",
   "metadata": {},
   "outputs": [
    {
     "data": {
      "text/plain": [
       "1.0"
      ]
     },
     "execution_count": 83,
     "metadata": {},
     "output_type": "execute_result"
    }
   ],
   "source": [
    "# Creating a metric object \n",
    "m = Recall()\n",
    "\n",
    "# Calculating the recall value \n",
    "m.update_state(y_true, y_hat)\n",
    "\n",
    "# Return Recall Result\n",
    "m.result().numpy()"
   ]
  },
  {
   "cell_type": "code",
   "execution_count": 84,
   "id": "2cbc4dac",
   "metadata": {},
   "outputs": [
    {
     "data": {
      "text/plain": [
       "1.0"
      ]
     },
     "execution_count": 84,
     "metadata": {},
     "output_type": "execute_result"
    }
   ],
   "source": [
    "# Creating a metric object \n",
    "m = Precision()\n",
    "\n",
    "# Calculating the recall value \n",
    "m.update_state(y_true, y_hat)\n",
    "\n",
    "# Return Recall Result\n",
    "m.result().numpy()"
   ]
  },
  {
   "cell_type": "code",
   "execution_count": 85,
   "id": "96be5987",
   "metadata": {},
   "outputs": [
    {
     "name": "stdout",
     "output_type": "stream",
     "text": [
      "1.0 1.0\n"
     ]
    }
   ],
   "source": [
    "r = Recall()\n",
    "p = Precision()\n",
    "\n",
    "for test_input, test_val, y_true in test_data.as_numpy_iterator():\n",
    "    yhat = siamese_model.predict([test_input, test_val])\n",
    "    r.update_state(y_true, yhat)\n",
    "    p.update_state(y_true,yhat) \n",
    "\n",
    "print(r.result().numpy(), p.result().numpy())\n"
   ]
  },
  {
   "cell_type": "code",
   "execution_count": 100,
   "id": "c1421ceb",
   "metadata": {},
   "outputs": [
    {
     "data": {
      "image/png": "[encoded data removed]",
      "text/plain": [
       "<Figure size 1000x800 with 2 Axes>"
      ]
     },
     "metadata": {},
     "output_type": "display_data"
    }
   ],
   "source": [
    "# Set plot size \n",
    "plt.figure(figsize=(10,8))\n",
    "\n",
    "# Set first subplot\n",
    "plt.subplot(1,2,1)\n",
    "plt.imshow(test_input[4])\n",
    "\n",
    "# Set second subplot\n",
    "plt.subplot(1,2,2)\n",
    "plt.imshow(test_val[4])\n",
    "\n",
    "# Renders cleanly\n",
    "plt.show()"
   ]
  },
  {
   "cell_type": "code",
   "execution_count": 151,
   "id": "7407efc3",
   "metadata": {},
   "outputs": [],
   "source": [
    "# Save weights\n",
    "siamese_model.save('siamesemodelv2.h5')"
   ]
  },
  {
   "cell_type": "code",
   "execution_count": 141,
   "id": "371e9549",
   "metadata": {},
   "outputs": [
    {
     "data": {
      "text/plain": [
       "__main__.L1Dist"
      ]
     },
     "execution_count": 141,
     "metadata": {},
     "output_type": "execute_result"
    }
   ],
   "source": [
    "L1Dist"
   ]
  },
  {
   "cell_type": "code",
   "execution_count": 142,
   "id": "da53fdbf",
   "metadata": {},
   "outputs": [],
   "source": [
    "# Reload model \n",
    "siamese_model = tf.keras.models.load_model('siamesemodelv2.h5',compile=False, \n",
    "                                   custom_objects={'L1Dist':L1Dist, 'BinaryCrossentropy':tf.losses.BinaryCrossentropy})"
   ]
  },
  {
   "cell_type": "code",
   "execution_count": 143,
   "id": "6574ab30",
   "metadata": {},
   "outputs": [
    {
     "data": {
      "text/plain": [
       "array([[6.5421574e-08],\n",
       "       [6.8010104e-06],\n",
       "       [9.9571228e-01],\n",
       "       [4.9897764e-08],\n",
       "       [9.9892724e-01],\n",
       "       [3.2495409e-09],\n",
       "       [5.9982335e-09],\n",
       "       [1.8342048e-08]], dtype=float32)"
      ]
     },
     "execution_count": 143,
     "metadata": {},
     "output_type": "execute_result"
    }
   ],
   "source": [
    "# Make predictions with reloaded model\n",
    "siamese_model.predict([test_input, test_val])"
   ]
  },
  {
   "cell_type": "code",
   "execution_count": 144,
   "id": "1e13301f",
   "metadata": {},
   "outputs": [
    {
     "name": "stdout",
     "output_type": "stream",
     "text": [
      "Model: \"SiameseNetwork\"\n",
      "__________________________________________________________________________________________________\n",
      "Layer (type)                    Output Shape         Param #     Connected to                     \n",
      "==================================================================================================\n",
      "input_img (InputLayer)          [(None, 100, 100, 3) 0                                            \n",
      "__________________________________________________________________________________________________\n",
      "validation_img (InputLayer)     [(None, 100, 100, 3) 0                                            \n",
      "__________________________________________________________________________________________________\n",
      "embedding (Functional)          (None, 4096)         38960448    input_img[0][0]                  \n",
      "                                                                 validation_img[0][0]             \n",
      "__________________________________________________________________________________________________\n",
      "l1_dist_6 (L1Dist)              (None, 4096)         0           embedding[0][0]                  \n",
      "                                                                 embedding[1][0]                  \n",
      "__________________________________________________________________________________________________\n",
      "dense_3 (Dense)                 (None, 1)            4097        l1_dist_6[0][0]                  \n",
      "==================================================================================================\n",
      "Total params: 38,964,545\n",
      "Trainable params: 38,964,545\n",
      "Non-trainable params: 0\n",
      "__________________________________________________________________________________________________\n"
     ]
    }
   ],
   "source": [
    "# View model summary\n",
    "siamese_model.summary()"
   ]
  },
  {
   "cell_type": "markdown",
   "id": "0ac58284",
   "metadata": {},
   "source": [
    "real time test"
   ]
  },
  {
   "cell_type": "code",
   "execution_count": 145,
   "id": "e523a7ee",
   "metadata": {},
   "outputs": [
    {
     "data": {
      "text/plain": [
       "['63308218-3cb3-11ed-ab14-e133b804f6ef.jpg',\n",
       " '634b8e1a-3cb3-11ed-b605-e133b804f6ef.jpg',\n",
       " '63993a82-3cb3-11ed-8269-e133b804f6ef.jpg',\n",
       " '64076be8-3cb3-11ed-adee-e133b804f6ef.jpg',\n",
       " '64c0eadc-3cb3-11ed-97b8-e133b804f6ef.jpg',\n",
       " '652b0898-3cb3-11ed-852d-e133b804f6ef.jpg',\n",
       " '654226a8-3cb3-11ed-8ba3-e133b804f6ef.jpg',\n",
       " '654e0f1c-3cb3-11ed-a6e8-e133b804f6ef.jpg',\n",
       " '65a64848-3cb3-11ed-bfd5-e133b804f6ef.jpg',\n",
       " '65d4c7ee-3cb3-11ed-a70e-e133b804f6ef.jpg',\n",
       " '660834c6-3cb3-11ed-aa7a-e133b804f6ef.jpg',\n",
       " '6631a9fa-3cb3-11ed-a298-e133b804f6ef.jpg',\n",
       " '6658bd24-3cb3-11ed-9fc7-e133b804f6ef.jpg',\n",
       " '667370ac-3cb3-11ed-bffa-e133b804f6ef.jpg',\n",
       " '66785a34-3cb3-11ed-97a4-e133b804f6ef.jpg',\n",
       " '66b09af0-3cb3-11ed-a6da-e133b804f6ef.jpg',\n",
       " '66c79a48-3cb3-11ed-9c6f-e133b804f6ef.jpg',\n",
       " '673d9490-3cb3-11ed-9f13-e133b804f6ef.jpg',\n",
       " '6753a78c-3cb3-11ed-abe6-e133b804f6ef.jpg',\n",
       " '6795fbb0-3cb3-11ed-8da6-e133b804f6ef.jpg',\n",
       " '679ad91e-3cb3-11ed-bc06-e133b804f6ef.jpg',\n",
       " '679fbb94-3cb3-11ed-a010-e133b804f6ef.jpg',\n",
       " '67abdd40-3cb3-11ed-bdfe-e133b804f6ef.jpg',\n",
       " '67b37e36-3cb3-11ed-b104-e133b804f6ef.jpg',\n",
       " '67e26480-3cb3-11ed-b84c-e133b804f6ef.jpg',\n",
       " '682fc46e-3cb3-11ed-8f51-e133b804f6ef.jpg',\n",
       " '6856da50-3cb3-11ed-8283-e133b804f6ef.jpg',\n",
       " '6867d01c-3cb3-11ed-b57e-e133b804f6ef.jpg',\n",
       " '68c9a880-3cb3-11ed-b236-e133b804f6ef.jpg',\n",
       " '68d451ee-3cb3-11ed-8ca6-e133b804f6ef.jpg',\n",
       " '68ebd276-3cb3-11ed-a58d-e133b804f6ef.jpg',\n",
       " '68f8117a-3cb3-11ed-bddd-e133b804f6ef.jpg',\n",
       " '6910dec0-3cb3-11ed-a170-e133b804f6ef.jpg',\n",
       " '6954dac0-3cb3-11ed-a3e8-e133b804f6ef.jpg',\n",
       " '69664674-3cb3-11ed-9059-e133b804f6ef.jpg',\n",
       " '69d01ebe-3cb3-11ed-96e6-e133b804f6ef.jpg',\n",
       " '6a0be848-3cb3-11ed-8c97-e133b804f6ef.jpg',\n",
       " '6a10cf38-3cb3-11ed-b11b-e133b804f6ef.jpg',\n",
       " '6a4180c8-3cb3-11ed-ac2c-e133b804f6ef.jpg',\n",
       " '6a57d33a-3cb3-11ed-b68b-e133b804f6ef.jpg',\n",
       " '6a701c00-3cb3-11ed-8da9-e133b804f6ef.jpg',\n",
       " '6a80f0d8-3cb3-11ed-b96e-e133b804f6ef.jpg',\n",
       " '6a861e08-3cb3-11ed-a103-e133b804f6ef.jpg',\n",
       " '6a949bca-3cb3-11ed-90c0-e133b804f6ef.jpg',\n",
       " '6a99bef6-3cb3-11ed-9e7c-e133b804f6ef.jpg',\n",
       " '6b38379a-3cb3-11ed-ad18-e133b804f6ef.jpg',\n",
       " '6b3d3ae6-3cb3-11ed-a4e8-e133b804f6ef.jpg',\n",
       " '6b6e1db6-3cb3-11ed-8080-e133b804f6ef.jpg',\n",
       " '6ba28692-3cb3-11ed-a182-e133b804f6ef.jpg',\n",
       " '6ba86328-3cb3-11ed-adff-e133b804f6ef.jpg',\n",
       " '6c82650a-3cb3-11ed-93d6-e133b804f6ef.jpg',\n",
       " '6c92b4a8-3cb3-11ed-ace2-e133b804f6ef.jpg',\n",
       " '6cfdf498-3cb3-11ed-9ab8-e133b804f6ef.jpg',\n",
       " '6d0a9322-3cb3-11ed-83fb-e133b804f6ef.jpg',\n",
       " '6e31e7c0-3cb3-11ed-bb45-e133b804f6ef.jpg',\n",
       " '6e47c134-3cb3-11ed-857d-e133b804f6ef.jpg',\n",
       " '6e93887e-3cb3-11ed-a034-e133b804f6ef.jpg',\n",
       " '6e9c8112-3cb3-11ed-89ea-e133b804f6ef.jpg']"
      ]
     },
     "execution_count": 145,
     "metadata": {},
     "output_type": "execute_result"
    }
   ],
   "source": [
    "os.listdir(os.path.join('application_data', 'verification_images'))"
   ]
  },
  {
   "cell_type": "code",
   "execution_count": 146,
   "id": "fbeb594e",
   "metadata": {},
   "outputs": [
    {
     "name": "stdout",
     "output_type": "stream",
     "text": [
      "application_data\\verification_images\\63308218-3cb3-11ed-ab14-e133b804f6ef.jpg\n",
      "application_data\\verification_images\\634b8e1a-3cb3-11ed-b605-e133b804f6ef.jpg\n",
      "application_data\\verification_images\\63993a82-3cb3-11ed-8269-e133b804f6ef.jpg\n",
      "application_data\\verification_images\\64076be8-3cb3-11ed-adee-e133b804f6ef.jpg\n",
      "application_data\\verification_images\\64c0eadc-3cb3-11ed-97b8-e133b804f6ef.jpg\n",
      "application_data\\verification_images\\652b0898-3cb3-11ed-852d-e133b804f6ef.jpg\n",
      "application_data\\verification_images\\654226a8-3cb3-11ed-8ba3-e133b804f6ef.jpg\n",
      "application_data\\verification_images\\654e0f1c-3cb3-11ed-a6e8-e133b804f6ef.jpg\n",
      "application_data\\verification_images\\65a64848-3cb3-11ed-bfd5-e133b804f6ef.jpg\n",
      "application_data\\verification_images\\65d4c7ee-3cb3-11ed-a70e-e133b804f6ef.jpg\n",
      "application_data\\verification_images\\660834c6-3cb3-11ed-aa7a-e133b804f6ef.jpg\n",
      "application_data\\verification_images\\6631a9fa-3cb3-11ed-a298-e133b804f6ef.jpg\n",
      "application_data\\verification_images\\6658bd24-3cb3-11ed-9fc7-e133b804f6ef.jpg\n",
      "application_data\\verification_images\\667370ac-3cb3-11ed-bffa-e133b804f6ef.jpg\n",
      "application_data\\verification_images\\66785a34-3cb3-11ed-97a4-e133b804f6ef.jpg\n",
      "application_data\\verification_images\\66b09af0-3cb3-11ed-a6da-e133b804f6ef.jpg\n",
      "application_data\\verification_images\\66c79a48-3cb3-11ed-9c6f-e133b804f6ef.jpg\n",
      "application_data\\verification_images\\673d9490-3cb3-11ed-9f13-e133b804f6ef.jpg\n",
      "application_data\\verification_images\\6753a78c-3cb3-11ed-abe6-e133b804f6ef.jpg\n",
      "application_data\\verification_images\\6795fbb0-3cb3-11ed-8da6-e133b804f6ef.jpg\n",
      "application_data\\verification_images\\679ad91e-3cb3-11ed-bc06-e133b804f6ef.jpg\n",
      "application_data\\verification_images\\679fbb94-3cb3-11ed-a010-e133b804f6ef.jpg\n",
      "application_data\\verification_images\\67abdd40-3cb3-11ed-bdfe-e133b804f6ef.jpg\n",
      "application_data\\verification_images\\67b37e36-3cb3-11ed-b104-e133b804f6ef.jpg\n",
      "application_data\\verification_images\\67e26480-3cb3-11ed-b84c-e133b804f6ef.jpg\n",
      "application_data\\verification_images\\682fc46e-3cb3-11ed-8f51-e133b804f6ef.jpg\n",
      "application_data\\verification_images\\6856da50-3cb3-11ed-8283-e133b804f6ef.jpg\n",
      "application_data\\verification_images\\6867d01c-3cb3-11ed-b57e-e133b804f6ef.jpg\n",
      "application_data\\verification_images\\68c9a880-3cb3-11ed-b236-e133b804f6ef.jpg\n",
      "application_data\\verification_images\\68d451ee-3cb3-11ed-8ca6-e133b804f6ef.jpg\n",
      "application_data\\verification_images\\68ebd276-3cb3-11ed-a58d-e133b804f6ef.jpg\n",
      "application_data\\verification_images\\68f8117a-3cb3-11ed-bddd-e133b804f6ef.jpg\n",
      "application_data\\verification_images\\6910dec0-3cb3-11ed-a170-e133b804f6ef.jpg\n",
      "application_data\\verification_images\\6954dac0-3cb3-11ed-a3e8-e133b804f6ef.jpg\n",
      "application_data\\verification_images\\69664674-3cb3-11ed-9059-e133b804f6ef.jpg\n",
      "application_data\\verification_images\\69d01ebe-3cb3-11ed-96e6-e133b804f6ef.jpg\n",
      "application_data\\verification_images\\6a0be848-3cb3-11ed-8c97-e133b804f6ef.jpg\n",
      "application_data\\verification_images\\6a10cf38-3cb3-11ed-b11b-e133b804f6ef.jpg\n",
      "application_data\\verification_images\\6a4180c8-3cb3-11ed-ac2c-e133b804f6ef.jpg\n",
      "application_data\\verification_images\\6a57d33a-3cb3-11ed-b68b-e133b804f6ef.jpg\n",
      "application_data\\verification_images\\6a701c00-3cb3-11ed-8da9-e133b804f6ef.jpg\n",
      "application_data\\verification_images\\6a80f0d8-3cb3-11ed-b96e-e133b804f6ef.jpg\n",
      "application_data\\verification_images\\6a861e08-3cb3-11ed-a103-e133b804f6ef.jpg\n",
      "application_data\\verification_images\\6a949bca-3cb3-11ed-90c0-e133b804f6ef.jpg\n",
      "application_data\\verification_images\\6a99bef6-3cb3-11ed-9e7c-e133b804f6ef.jpg\n",
      "application_data\\verification_images\\6b38379a-3cb3-11ed-ad18-e133b804f6ef.jpg\n",
      "application_data\\verification_images\\6b3d3ae6-3cb3-11ed-a4e8-e133b804f6ef.jpg\n",
      "application_data\\verification_images\\6b6e1db6-3cb3-11ed-8080-e133b804f6ef.jpg\n",
      "application_data\\verification_images\\6ba28692-3cb3-11ed-a182-e133b804f6ef.jpg\n",
      "application_data\\verification_images\\6ba86328-3cb3-11ed-adff-e133b804f6ef.jpg\n",
      "application_data\\verification_images\\6c82650a-3cb3-11ed-93d6-e133b804f6ef.jpg\n",
      "application_data\\verification_images\\6c92b4a8-3cb3-11ed-ace2-e133b804f6ef.jpg\n",
      "application_data\\verification_images\\6cfdf498-3cb3-11ed-9ab8-e133b804f6ef.jpg\n",
      "application_data\\verification_images\\6d0a9322-3cb3-11ed-83fb-e133b804f6ef.jpg\n",
      "application_data\\verification_images\\6e31e7c0-3cb3-11ed-bb45-e133b804f6ef.jpg\n",
      "application_data\\verification_images\\6e47c134-3cb3-11ed-857d-e133b804f6ef.jpg\n",
      "application_data\\verification_images\\6e93887e-3cb3-11ed-a034-e133b804f6ef.jpg\n",
      "application_data\\verification_images\\6e9c8112-3cb3-11ed-89ea-e133b804f6ef.jpg\n"
     ]
    }
   ],
   "source": [
    "for image in os.listdir(os.path.join('application_data', 'verification_images')):\n",
    "    validation_img = os.path.join('application_data', 'verification_images', image)\n",
    "    print(validation_img)"
   ]
  },
  {
   "cell_type": "code",
   "execution_count": 147,
   "id": "1fd0f4fc",
   "metadata": {},
   "outputs": [],
   "source": [
    "def verify(model, detection_threshold, verification_threshold):\n",
    "    # Build results array\n",
    "    results = []\n",
    "    for image in os.listdir(os.path.join('application_data', 'verification_images')):\n",
    "        input_img = preprocess(os.path.join('application_data', 'input_image', 'input_image.jpg'))\n",
    "        validation_img = preprocess(os.path.join('application_data', 'verification_images', image))\n",
    "        \n",
    "        # Make Predictions \n",
    "        result = model.predict(list(np.expand_dims([input_img, validation_img], axis=1)))\n",
    "        results.append(result)\n",
    "    \n",
    "    # Detection Threshold: Metric above which a prediciton is considered positive \n",
    "    detection = np.sum(np.array(results) > detection_threshold)\n",
    "    \n",
    "    # Verification Threshold: Proportion of positive predictions / total positive samples \n",
    "    verification = detection / len(os.listdir(os.path.join('application_data', 'verification_images'))) \n",
    "    verified = verification > verification_threshold\n",
    "    \n",
    "    return results, verified"
   ]
  },
  {
   "cell_type": "markdown",
   "id": "80443b4c",
   "metadata": {},
   "source": [
    "OpenCV Real Time Verification"
   ]
  },
  {
   "cell_type": "code",
   "execution_count": 136,
   "id": "cd091dd8",
   "metadata": {},
   "outputs": [
    {
     "name": "stdout",
     "output_type": "stream",
     "text": [
      "True\n"
     ]
    }
   ],
   "source": [
    "cap = cv2.VideoCapture(0)\n",
    "while cap.isOpened():\n",
    "    ret, frame = cap.read()\n",
    "    frame = frame[120:120+250,200:200+250, :]\n",
    "    \n",
    "    cv2.imshow('Verification', frame)\n",
    "    \n",
    "    # Verification trigger\n",
    "    if cv2.waitKey(10) & 0xFF == ord('v'):\n",
    "\n",
    "        cv2.imwrite(os.path.join('application_data', 'input_image', 'input_image.jpg'), frame)\n",
    "        #Run verification\n",
    "        results, verified = verify(siamese_model, 0.9, 0.7)\n",
    "        print(verified)\n",
    "    \n",
    "    if cv2.waitKey(10) & 0xFF == ord('q'):\n",
    "        break\n",
    "cap.release()\n",
    "cv2.destroyAllWindows()"
   ]
  },
  {
   "cell_type": "code",
   "execution_count": 148,
   "id": "02f58181",
   "metadata": {},
   "outputs": [
    {
     "data": {
      "text/plain": [
       "45"
      ]
     },
     "execution_count": 148,
     "metadata": {},
     "output_type": "execute_result"
    }
   ],
   "source": [
    "np.sum(np.squeeze(results) > 0.9)"
   ]
  },
  {
   "cell_type": "code",
   "execution_count": 149,
   "id": "3c4e538e",
   "metadata": {},
   "outputs": [
    {
     "data": {
      "text/plain": [
       "0.7758620689655172"
      ]
     },
     "execution_count": 149,
     "metadata": {},
     "output_type": "execute_result"
    }
   ],
   "source": [
    "45/58"
   ]
  }
 ],
 "metadata": {
  "kernelspec": {
   "display_name": "Python 3 (ipykernel)",
   "language": "python",
   "name": "python3"
  },
  "language_info": {
   "codemirror_mode": {
    "name": "ipython",
    "version": 3
   },
   "file_extension": ".py",
   "mimetype": "text/x-python",
   "name": "python",
   "nbconvert_exporter": "python",
   "pygments_lexer": "ipython3",
   "version": "3.7.13"
  }
 },
 "nbformat": 4,
 "nbformat_minor": 5
}
